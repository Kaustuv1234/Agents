{
 "cells": [
  {
   "cell_type": "code",
   "execution_count": 77,
   "id": "86ddbf02",
   "metadata": {},
   "outputs": [
    {
     "name": "stdout",
     "output_type": "stream",
     "text": [
      "Note: you may need to restart the kernel to use updated packages.\n"
     ]
    }
   ],
   "source": [
    "%pip install -q langchain-nomic langchain_community tiktoken langchainhub chromadb langchain langgraph tavily-python 'nomic[local]' langchain-text-splitters"
   ]
  },
  {
   "cell_type": "code",
   "execution_count": 78,
   "id": "7229ccd4",
   "metadata": {},
   "outputs": [],
   "source": [
    "import os\n",
    "\n",
    "import json \n",
    "with open('/Users/kaustuv/Desktop/AI_projects/config.json') as f:\n",
    "    config = json.load(f) \n",
    "    os.environ['LANGCHAIN_API_KEY'] = config['LANGCHAIN_API_KEY']\n",
    "    os.environ[\"TAVILY_API_KEY\"] = config['TAVILY_API_KEY']\n",
    "\n",
    "os.environ['LANGCHAIN_TRACING_V2'] = 'true'\n",
    "os.environ['LANGCHAIN_ENDPOINT'] = 'https://api.smith.langchain.com'\n"
   ]
  },
  {
   "cell_type": "markdown",
   "id": "fdf9280f",
   "metadata": {},
   "source": [
    "### Build a Basic Chatbot"
   ]
  },
  {
   "cell_type": "code",
   "execution_count": 79,
   "id": "be3ac3a1",
   "metadata": {},
   "outputs": [],
   "source": [
    "from typing import Annotated\n",
    "\n",
    "from typing_extensions import TypedDict\n",
    "\n",
    "from langgraph.graph import StateGraph, START, END\n",
    "from langgraph.graph.message import add_messages\n",
    "\n",
    "\n",
    "class State(TypedDict):\n",
    "    # Messages have the type \"list\". The `add_messages` function\n",
    "    # in the annotation defines how this state key should be updated\n",
    "    # (in this case, it appends messages to the list, rather than overwriting them)\n",
    "    messages: Annotated[list, add_messages]\n",
    "    user_message: str\n",
    "\n",
    "\n",
    "state_graph = StateGraph(State)"
   ]
  },
  {
   "cell_type": "code",
   "execution_count": 80,
   "id": "f34fc29e",
   "metadata": {},
   "outputs": [],
   "source": [
    "### Generate\n",
    "\n",
    "from langchain_core.output_parsers import StrOutputParser\n",
    "from langchain_core.prompts import PromptTemplate\n",
    "from langchain_community.chat_models import ChatOllama\n",
    "\n",
    "\n",
    "# Prompt\n",
    "prompt = PromptTemplate(\n",
    "    template=\"\"\"<|begin_of_text|><|start_header_id|>system<|end_header_id|> You are an chatbot for question-answering tasks. \n",
    "    If you need you can use the following chat history to answer the question. If you don't know the answer, just say that you don't know. \n",
    "    Use three sentences maximum and keep the answer concise <|eot_id|><|start_header_id|>user<|end_header_id|>\n",
    "    User message: {user_message} \n",
    "    Message history: {chat_history} \n",
    "    Answer: <|eot_id|><|start_header_id|>assistant<|end_header_id|>\"\"\",\n",
    "    input_variables=[\"user_message\", \"chat_history\"],\n",
    ")\n",
    "\n",
    "local_llm = \"llama3.1\"\n",
    "llm = ChatOllama(model=local_llm, \n",
    "                 temperature=0)\n",
    "\n",
    "\n",
    "# # Post-processing\n",
    "# def format_docs(docs):\n",
    "#     return \"\\n\\n\".join(doc.page_content for doc in docs)\n",
    "\n",
    "\n",
    "# Chain\n",
    "chatbot_llm = prompt | llm | StrOutputParser()\n",
    "\n",
    "# # Run\n",
    "# history = \"jupiter is the largest planet in the solar system\"\n",
    "# message = \"how many moons does it have\"\n",
    "# generation = chatbot_llm.invoke({\"chat_history\": history, \"user_message\": message})\n",
    "# print(generation)"
   ]
  },
  {
   "cell_type": "code",
   "execution_count": 81,
   "id": "cbe6024b",
   "metadata": {},
   "outputs": [],
   "source": [
    "\n",
    "from langchain_community.chat_models import ChatOllama\n",
    "from langgraph.checkpoint.memory import MemorySaver\n",
    "from langchain_core.messages import HumanMessage\n",
    "from langgraph.graph import END, StateGraph, MessagesState\n",
    "\n",
    "\n",
    "\n",
    "memory = MemorySaver()\n",
    "\n",
    "# # LLM\n",
    "local_llm = \"llama3.1\"\n",
    "llm = ChatOllama(model=local_llm, \n",
    "                 temperature=0)\n",
    "\n",
    "# Nodes\n",
    "def call_model(state: MessagesState):\n",
    "    messages = state['messages']\n",
    "    response = llm.invoke(messages)\n",
    "    # We return a list, because this will get added to the existing list\n",
    "    return {\"messages\": [response]}\n",
    "\n",
    "# Create graph\n",
    "state_graph.add_node(\"chatbot\", call_model)\n",
    "\n",
    "state_graph.add_edge(START, \"chatbot\")\n",
    "state_graph.add_edge(\"chatbot\", END)\n",
    "\n",
    "# Notice we're using an in-memory checkpointer. This is convenient for our tutorial (it saves it all in-memory). \n",
    "# In a production application, you would likely change this to use SqliteSaver or PostgresSaver and connect to your own DB.\n",
    "memory = MemorySaver()\n",
    "graph = state_graph.compile(checkpointer=memory)"
   ]
  },
  {
   "cell_type": "code",
   "execution_count": 82,
   "id": "eb30b31d",
   "metadata": {},
   "outputs": [
    {
     "data": {
      "image/jpeg": "[encoded data removed]",
      "text/plain": [
       "<IPython.core.display.Image object>"
      ]
     },
     "metadata": {},
     "output_type": "display_data"
    }
   ],
   "source": [
    "from IPython.display import Image, display\n",
    "\n",
    "try:\n",
    "    display(Image(graph.get_graph().draw_mermaid_png()))\n",
    "except Exception:\n",
    "    # This requires some extra dependencies and is optional\n",
    "    pass\n",
    "\n"
   ]
  },
  {
   "cell_type": "code",
   "execution_count": 83,
   "id": "82f45afa",
   "metadata": {},
   "outputs": [
    {
     "name": "stdout",
     "output_type": "stream",
     "text": [
      "==================================\u001b[1m Ai Message \u001b[0m==================================\n",
      "\n",
      "The tallest mountain in the world is Mount Everest, located in the Himalayas on the border between Nepal and Tibet, China. It stands at an incredible:\n",
      "\n",
      "**8,848 meters (29,029 feet) above sea level**\n",
      "\n",
      "Mount Everest was formed when the Indian tectonic plate collided with the Eurasian plate, pushing up the Earth's crust to create the highest mountain peak in the world.\n",
      "\n",
      "Did you know that Mount Everest is still growing taller by about 1 inch (2.5 cm) every year due to the ongoing collision of these two plates?\n",
      "None\n",
      "==================================\u001b[1m Ai Message \u001b[0m==================================\n",
      "\n",
      "Mount Everest, the tallest mountain in the world, is located in the Himalayas on the border between:\n",
      "\n",
      "**Nepal and Tibet, China**\n",
      "\n",
      "To be more specific, its location is:\n",
      "\n",
      "* **Latitude:** 27.98805° N\n",
      "* **Longitude:** 86.92502° E\n",
      "* **Country:** Nepal (southern part) and Tibet Autonomous Region, China (northern part)\n",
      "\n",
      "The mountain is situated in the Mahalangur Himal sub-range of the Himalayas, which stretches across northern India, Nepal, Bhutan, and Tibet.\n",
      "\n",
      "Here's a rough outline of its location:\n",
      "\n",
      "* **Nepal:** Solu-Khumbu District, Sagarmatha Zone\n",
      "* **Tibet:** Tingri County, Shigatse Prefecture\n",
      "\n",
      "The base camp for climbers is located in the village of Lukla (2,860 meters/9,383 feet) in Nepal, which serves as a starting point for expeditions to the summit.\n",
      "None\n"
     ]
    }
   ],
   "source": [
    "config = {\"configurable\": {\"thread_id\": \"2\"}}\n",
    "\n",
    "while True:\n",
    "\n",
    "    user_input = input(\"User: \")\n",
    "    # print('\\nUser:', user_input)\n",
    "\n",
    "    if user_input.lower() in [\"quit\", \"exit\", \"q\"]:\n",
    "        break\n",
    "\n",
    "    events = graph.invoke(\n",
    "        {\"messages\": [HumanMessage(content=user_input)]}, config, stream_mode=\"values\"\n",
    "    )\n",
    "    print(events[\"messages\"][-1].pretty_print())"
   ]
  },
  {
   "cell_type": "code",
   "execution_count": null,
   "id": "4d94b127",
   "metadata": {},
   "outputs": [],
   "source": []
  }
 ],
 "metadata": {
  "kernelspec": {
   "display_name": "Python 3 (ipykernel)",
   "language": "python",
   "name": "python3"
  },
  "language_info": {
   "codemirror_mode": {
    "name": "ipython",
    "version": 3
   },
   "file_extension": ".py",
   "mimetype": "text/x-python",
   "name": "python",
   "nbconvert_exporter": "python",
   "pygments_lexer": "ipython3",
   "version": "3.9.6"
  }
 },
 "nbformat": 4,
 "nbformat_minor": 5
}
