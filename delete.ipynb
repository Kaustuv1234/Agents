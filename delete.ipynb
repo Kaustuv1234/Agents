{
 "cells": [
  {
   "cell_type": "code",
   "execution_count": 22,
   "metadata": {},
   "outputs": [],
   "source": [
    "!pip install -q --upgrade langchain langchain_core langchain_community"
   ]
  },
  {
   "cell_type": "code",
   "execution_count": 23,
   "metadata": {},
   "outputs": [],
   "source": [
    "import os\n",
    "\n",
    "import json \n",
    "with open('/Users/kaustuv/Desktop/AI_projects/config.json') as f:\n",
    "    config = json.load(f) \n",
    "    os.environ['LANGCHAIN_API_KEY'] = config['LANGCHAIN_API_KEY']\n",
    "    os.environ[\"TAVILY_API_KEY\"] = config['TAVILY_API_KEY']\n",
    "\n",
    "os.environ['LANGCHAIN_TRACING_V2'] = 'true'\n",
    "os.environ['LANGCHAIN_ENDPOINT'] = 'https://api.smith.langchain.com'\n"
   ]
  },
  {
   "cell_type": "code",
   "execution_count": 24,
   "metadata": {},
   "outputs": [],
   "source": [
    "from typing import Annotated, Literal, TypedDict\n",
    "\n",
    "from langchain_core.messages import HumanMessage\n",
    "from langchain_core.tools import tool\n",
    "from langgraph.checkpoint.memory import MemorySaver\n",
    "from langgraph.graph import END, StateGraph, MessagesState\n",
    "from langgraph.prebuilt import ToolNode\n",
    "from langchain_community.chat_models import ChatOllama\n",
    "\n",
    "\n",
    "\n",
    "# # Define the tools for the agent to use\n",
    "# @tool\n",
    "# def search(query: str):\n",
    "#     \"\"\"Call to surf the web.\"\"\"\n",
    "#     # This is a placeholder, but don't tell the LLM that...\n",
    "#     if \"sf\" in query.lower() or \"san francisco\" in query.lower():\n",
    "#         return \"It's 60 degrees and foggy.\"\n",
    "#     return \"It's 90 degrees and sunny.\"\n",
    "\n",
    "\n",
    "# tools = [search]\n",
    "\n",
    "# tool_node = ToolNode(tools)\n",
    "\n",
    "local_llm = \"llama3.1\"\n",
    "llm = ChatOllama(model=local_llm, \n",
    "                 temperature=0)\n",
    "\n",
    "\n",
    "# # Define the function that determines whether to continue or not\n",
    "# def should_continue(state: MessagesState) -> Literal[\"tools\", END]:\n",
    "#     messages = state['messages']\n",
    "#     last_message = messages[-1]\n",
    "#     # If the LLM makes a tool call, then we route to the \"tools\" node\n",
    "#     if last_message.tool_calls:\n",
    "#         return \"tools\"\n",
    "#     # Otherwise, we stop (reply to the user)\n",
    "#     return END\n",
    "\n",
    "\n",
    "# Define the function that calls the model\n",
    "def call_model(state: MessagesState):\n",
    "    messages = state['messages']\n",
    "    response = llm.invoke(messages)\n",
    "    # We return a list, because this will get added to the existing list\n",
    "    return {\"messages\": [response]}\n",
    "\n",
    "\n",
    "# Define a new graph\n",
    "workflow = StateGraph(MessagesState)\n",
    "\n",
    "# Define the two nodes we will cycle between\n",
    "workflow.add_node(\"agent\", call_model)\n",
    "# workflow.add_node(\"tools\", tool_node)\n",
    "\n",
    "# Set the entrypoint as `agent`\n",
    "# This means that this node is the first one called\n",
    "workflow.set_entry_point(\"agent\")\n",
    "\n",
    "# # We now add a conditional edge\n",
    "# workflow.add_conditional_edges(\n",
    "#     # First, we define the start node. We use `agent`.\n",
    "#     # This means these are the edges taken after the `agent` node is called.\n",
    "#     \"agent\",\n",
    "#     # Next, we pass in the function that will determine which node is called next.\n",
    "#     should_continue,\n",
    "# )\n",
    "\n",
    "# We now add a normal edge from `tools` to `agent`.\n",
    "# This means that after `tools` is called, `agent` node is called next.\n",
    "# workflow.add_edge(\"tools\", 'agent')\n",
    "\n",
    "# Initialize memory to persist state between graph runs\n",
    "checkpointer = MemorySaver()\n",
    "\n",
    "# Finally, we compile it!\n",
    "# This compiles it into a LangChain Runnable,\n",
    "# meaning you can use it as you would any other runnable.\n",
    "# Note that we're (optionally) passing the memory when compiling the graph\n",
    "app = workflow.compile(checkpointer=checkpointer)\n",
    "\n"
   ]
  },
  {
   "cell_type": "code",
   "execution_count": 25,
   "metadata": {},
   "outputs": [
    {
     "data": {
      "image/jpeg": "[encoded data removed]",
      "text/plain": [
       "<IPython.core.display.Image object>"
      ]
     },
     "metadata": {},
     "output_type": "display_data"
    }
   ],
   "source": [
    "from IPython.display import Image, display\n",
    "\n",
    "try:\n",
    "    display(Image(app.get_graph().draw_mermaid_png()))\n",
    "except Exception:\n",
    "    # This requires some extra dependencies and is optional\n",
    "    pass"
   ]
  },
  {
   "cell_type": "code",
   "execution_count": 26,
   "metadata": {},
   "outputs": [
    {
     "data": {
      "text/plain": [
       "\"The largest planet in our solar system is **Jupiter**.\\n\\nHere are some fascinating facts about Jupiter:\\n\\n1. **Size**: Jupiter is the largest of all the planets, with a diameter of approximately 142,984 kilometers (88,846 miles). This is more than 11 times the diameter of the Earth!\\n2. **Mass**: Jupiter is so massive that it makes up about 2.5 times the mass of all the other planets in our solar system combined.\\n3. **Composition**: Jupiter is a gas giant, meaning it's primarily composed of hydrogen and helium gases.\\n4. **Moons**: Jupiter has a whopping 79 known moons, with four large ones: Io, Europa, Ganymede, and Callisto.\\n5. **Atmosphere**: Jupiter's atmosphere is known for its vibrant cloud bands, which are made up of ammonia, water, and methane ices.\\n\\nJupiter is truly an awe-inspiring planet, and its sheer size and mass make it a fascinating subject of study in the fields of astronomy and planetary science!\""
      ]
     },
     "execution_count": 26,
     "metadata": {},
     "output_type": "execute_result"
    }
   ],
   "source": [
    "# Use the Runnable\n",
    "final_state = app.invoke(\n",
    "    {\"messages\": [HumanMessage(content=\"largest planet in solar system\")]},\n",
    "    config={\"configurable\": {\"thread_id\": 42}}\n",
    ")\n",
    "final_state[\"messages\"][-1].content"
   ]
  },
  {
   "cell_type": "code",
   "execution_count": 27,
   "metadata": {},
   "outputs": [
    {
     "name": "stdout",
     "output_type": "stream",
     "text": [
      "{'messages': [HumanMessage(content='largest planet in solar system', id='a5721ef2-2d40-45df-9788-556277af904a'), AIMessage(content=\"The largest planet in our solar system is **Jupiter**.\\n\\nHere are some fascinating facts about Jupiter:\\n\\n1. **Size**: Jupiter is the largest of all the planets, with a diameter of approximately 142,984 kilometers (88,846 miles). This is more than 11 times the diameter of the Earth!\\n2. **Mass**: Jupiter is so massive that it makes up about 2.5 times the mass of all the other planets in our solar system combined.\\n3. **Composition**: Jupiter is a gas giant, meaning it's primarily composed of hydrogen and helium gases.\\n4. **Moons**: Jupiter has a whopping 79 known moons, with four large ones: Io, Europa, Ganymede, and Callisto.\\n5. **Atmosphere**: Jupiter's atmosphere is known for its vibrant cloud bands, which are made up of ammonia, water, and methane ices.\\n\\nJupiter is truly an awe-inspiring planet, and its sheer size and mass make it a fascinating subject of study in the fields of astronomy and planetary science!\", response_metadata={'model': 'llama3.1', 'created_at': '2024-08-21T04:11:32.434158Z', 'message': {'role': 'assistant', 'content': ''}, 'done_reason': 'stop', 'done': True, 'total_duration': 7844469833, 'load_duration': 32041041, 'prompt_eval_count': 17, 'prompt_eval_duration': 398502000, 'eval_count': 215, 'eval_duration': 7412982000}, id='run-2fb6473c-4bc2-429f-abd0-dd15b4b99491-0')]}\n"
     ]
    }
   ],
   "source": [
    "print(final_state)"
   ]
  },
  {
   "cell_type": "code",
   "execution_count": 28,
   "metadata": {},
   "outputs": [
    {
     "data": {
      "text/plain": [
       "'I think you meant to ask \"What about Neptune?\" rather than \"Ny\"!\\n\\nNeptune is indeed another gas giant planet in our solar system, but it\\'s not the largest. Here are some key facts about Neptune:\\n\\n1. **Size**: Neptune has a diameter of approximately 51,118 kilometers (31,763 miles), making it the fourth-largest planet in our solar system.\\n2. **Composition**: Like Jupiter, Neptune is also a gas giant, composed primarily of hydrogen and helium gases.\\n3. **Moons**: Neptune has 14 known moons, with Triton being the largest moon.\\n4. **Atmosphere**: Neptune\\'s atmosphere is similar to that of Uranus, with strong winds and storm systems.\\n\\nWhile Neptune is an impressive planet in its own right, it\\'s not as massive or prominent as Jupiter. However, both planets are fascinating in their own ways, and studying them helps us better understand the formation and evolution of our solar system!'"
      ]
     },
     "execution_count": 28,
     "metadata": {},
     "output_type": "execute_result"
    }
   ],
   "source": [
    "final_state = app.invoke(\n",
    "    {\"messages\": [HumanMessage(content=\"what about ny\")]},\n",
    "    config={\"configurable\": {\"thread_id\": 42}}\n",
    ")\n",
    "final_state[\"messages\"][-1].content"
   ]
  }
 ],
 "metadata": {
  "kernelspec": {
   "display_name": ".venv",
   "language": "python",
   "name": "python3"
  },
  "language_info": {
   "codemirror_mode": {
    "name": "ipython",
    "version": 3
   },
   "file_extension": ".py",
   "mimetype": "text/x-python",
   "name": "python",
   "nbconvert_exporter": "python",
   "pygments_lexer": "ipython3",
   "version": "3.9.6"
  }
 },
 "nbformat": 4,
 "nbformat_minor": 2
}
